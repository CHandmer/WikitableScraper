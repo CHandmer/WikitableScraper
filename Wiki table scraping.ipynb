{
 "cells": [
  {
   "cell_type": "code",
   "execution_count": 333,
   "metadata": {},
   "outputs": [],
   "source": [
    "import requests\n",
    "import numpy as np\n",
    "from bs4 import BeautifulSoup\n",
    "import re\n",
    "import pandas as pd "
   ]
  },
  {
   "cell_type": "markdown",
   "metadata": {},
   "source": [
    "Idea here is a function that takes a URL and returns a dictionary from country to number of cases, deaths, and recoveries. This is pretty terrible but it's a start."
   ]
  },
  {
   "cell_type": "code",
   "execution_count": 468,
   "metadata": {},
   "outputs": [],
   "source": [
    "def cleanCountry(string):\n",
    "    newString = re.sub(r'\\[.*\\]', '', string)\n",
    "    newString = re.sub(r'\\(.*\\)', '', newString)\n",
    "    if len(newString)>1:\n",
    "        if newString[0]==\" \":\n",
    "            newString=newString[1:]\n",
    "        if newString[-1]==\" \":\n",
    "            newString=newString[:-1]\n",
    "    return newString\n",
    "    "
   ]
  },
  {
   "cell_type": "code",
   "execution_count": 729,
   "metadata": {},
   "outputs": [],
   "source": [
    "def cleanNumber(string):\n",
    "    return int(cleanCountry(string).replace(\",\",\"\").replace(\".\",\"\").replace(\"–\",\"0\").replace(\"?\",\"0\").replace(\"-\",\"0\").replace(\"~\",\"0\"))"
   ]
  },
  {
   "cell_type": "code",
   "execution_count": 598,
   "metadata": {},
   "outputs": [],
   "source": [
    "def getDictionaryFromWikiTable(url):\n",
    "    website_url = requests.get(url).text\n",
    "    soup = BeautifulSoup(website_url,\"html.parser\")\n",
    "    My_table = soup.find(\"table\",{\"class\":\"wikitable plainrowheaders sortable\"})\n",
    "    if type(My_table) != bs4.element.Tag:\n",
    "        My_table = soup.find(\"table\",{\"class\":\"wikitable plainrowheaders sortable mw-collapsible\"})\n",
    "    #return My_table\n",
    "    \n",
    "    # Find countries or things like them\n",
    "    links=My_table.findAll(\"tr\")\n",
    "    countries=[]\n",
    "    start=0\n",
    "    for link in links:\n",
    "        #if len(link.findAll('th'))==2:\n",
    "        if start==0:\n",
    "            if \"China\" in cleanCountry(link.findAll('th')[-1].text[:-1]):\n",
    "                start=1\n",
    "        if start==1:\n",
    "            if len(link.findAll('td')) < 3:\n",
    "                break\n",
    "            country = cleanCountry(link.findAll('th')[-1].text[:-1])\n",
    "            nums = [cleanNumber(link.findAll('td')[i].text[:-1]) for i in range(3)]\n",
    "            countries.append([country]+nums)\n",
    "    \n",
    "    #Generate dictionary\n",
    "    myDict = {}\n",
    "    for i in range(len(countries)):\n",
    "        myDict[countries[i][0]]=countries[i][1:]\n",
    "    return myDict"
   ]
  },
  {
   "cell_type": "markdown",
   "metadata": {},
   "source": [
    "Let's find the URLs of all the pages that we want to scrape."
   ]
  },
  {
   "cell_type": "code",
   "execution_count": 573,
   "metadata": {},
   "outputs": [],
   "source": [
    "#history = \"https://en.wikipedia.org/w/index.php?title=Template:2019%E2%80%9320_coronavirus_pandemic_data&offset=&limit=\"+str(10000)+\"&action=history\"\n",
    "history=\"https://en.wikipedia.org/w/index.php?title=Template:2019%E2%80%9320_coronavirus_pandemic_data&offset=20200301201057&limit=5000&action=history\"\n",
    "website_url = requests.get(history).text\n",
    "soupTemp = BeautifulSoup(website_url,\"html.parser\")\n",
    "    "
   ]
  },
  {
   "cell_type": "code",
   "execution_count": 607,
   "metadata": {},
   "outputs": [],
   "source": [
    "def getUrls(dates,limit):\n",
    "    # Ensure limit is really big\n",
    "    history = \"https://en.wikipedia.org/w/index.php?title=Template:2019%E2%80%9320_coronavirus_pandemic_data&offset=&limit=\"+str(limit)+\"&action=history\"\n",
    "    website_url = requests.get(history).text\n",
    "    soup = BeautifulSoup(website_url,\"html.parser\")\n",
    "    My_table = soup.find(\"form\",{\"id\":\"mw-history-compare\"})\n",
    "    #My_table = soupTemp.find(\"form\",{\"id\":\"mw-history-compare\"})\n",
    "    datesloc=My_table.findAll(\"a\")\n",
    "    #return datesloc\n",
    "    urls=[]\n",
    "    for datetext in dates:\n",
    "        versions=[]\n",
    "        for date in datesloc:\n",
    "            if datetext in date.text:\n",
    "                versions.append(date[\"href\"])\n",
    "        if len(versions)>0:\n",
    "            urls.append(\"https://en.wikipedia.org\"+versions[-1])\n",
    "        else:\n",
    "            print(\"date not found\")\n",
    "    return urls"
   ]
  },
  {
   "cell_type": "code",
   "execution_count": 720,
   "metadata": {},
   "outputs": [
    {
     "data": {
      "text/plain": [
       "['https://en.wikipedia.org/w/index.php?title=Template:2019%E2%80%9320_coronavirus_pandemic_data&oldid=946409034']"
      ]
     },
     "execution_count": 720,
     "metadata": {},
     "output_type": "execute_result"
    }
   ],
   "source": [
    "getUrls([\"20 March 2020\"],500)"
   ]
  },
  {
   "cell_type": "code",
   "execution_count": 347,
   "metadata": {},
   "outputs": [],
   "source": [
    "datestext=[str(i)+\" March 2020\" for i in range(1,19)]"
   ]
  },
  {
   "cell_type": "code",
   "execution_count": 524,
   "metadata": {},
   "outputs": [],
   "source": [
    "datestext=[str(i)+\" February 2020\" for i in range(1,30)]"
   ]
  },
  {
   "cell_type": "code",
   "execution_count": 527,
   "metadata": {},
   "outputs": [
    {
     "data": {
      "text/plain": [
       "['1 February 2020',\n",
       " '2 February 2020',\n",
       " '3 February 2020',\n",
       " '4 February 2020',\n",
       " '5 February 2020',\n",
       " '6 February 2020',\n",
       " '7 February 2020',\n",
       " '8 February 2020',\n",
       " '9 February 2020',\n",
       " '10 February 2020',\n",
       " '11 February 2020',\n",
       " '12 February 2020',\n",
       " '13 February 2020',\n",
       " '14 February 2020',\n",
       " '15 February 2020',\n",
       " '16 February 2020',\n",
       " '17 February 2020',\n",
       " '18 February 2020',\n",
       " '19 February 2020',\n",
       " '20 February 2020',\n",
       " '21 February 2020',\n",
       " '22 February 2020',\n",
       " '23 February 2020',\n",
       " '24 February 2020',\n",
       " '25 February 2020',\n",
       " '26 February 2020',\n",
       " '27 February 2020',\n",
       " '28 February 2020',\n",
       " '29 February 2020']"
      ]
     },
     "execution_count": 527,
     "metadata": {},
     "output_type": "execute_result"
    }
   ],
   "source": [
    "datestext"
   ]
  },
  {
   "cell_type": "code",
   "execution_count": 577,
   "metadata": {},
   "outputs": [],
   "source": [
    "Urlstext=getUrls(datestext,100)"
   ]
  },
  {
   "cell_type": "code",
   "execution_count": 605,
   "metadata": {},
   "outputs": [
    {
     "data": {
      "text/plain": [
       "['https://en.wikipedia.org/w/index.php?title=Template:2019%E2%80%9320_coronavirus_pandemic_data&oldid=938566085',\n",
       " 'https://en.wikipedia.org/w/index.php?title=Template:2019%E2%80%9320_coronavirus_pandemic_data&oldid=938722769',\n",
       " 'https://en.wikipedia.org/w/index.php?title=Template:2019%E2%80%9320_coronavirus_pandemic_data&oldid=938886445',\n",
       " 'https://en.wikipedia.org/w/index.php?title=Template:2019%E2%80%9320_coronavirus_pandemic_data&oldid=939041138',\n",
       " 'https://en.wikipedia.org/w/index.php?title=Template:2019%E2%80%9320_coronavirus_pandemic_data&oldid=939201335',\n",
       " 'https://en.wikipedia.org/w/index.php?title=Template:2019%E2%80%9320_coronavirus_pandemic_data&oldid=939362116',\n",
       " 'https://en.wikipedia.org/w/index.php?title=Template:2019%E2%80%9320_coronavirus_pandemic_data&oldid=939524881',\n",
       " 'https://en.wikipedia.org/w/index.php?title=Template:2019%E2%80%9320_coronavirus_pandemic_data&oldid=939679762',\n",
       " 'https://en.wikipedia.org/w/index.php?title=Template:2019%E2%80%9320_coronavirus_pandemic_data&oldid=939833918',\n",
       " 'https://en.wikipedia.org/w/index.php?title=Template:2019%E2%80%9320_coronavirus_pandemic_data&oldid=940002901',\n",
       " 'https://en.wikipedia.org/w/index.php?title=Template:2019%E2%80%9320_coronavirus_pandemic_data&oldid=940174916',\n",
       " 'https://en.wikipedia.org/w/index.php?title=Template:2019%E2%80%9320_coronavirus_pandemic_data&oldid=940342980',\n",
       " 'https://en.wikipedia.org/w/index.php?title=Template:2019%E2%80%9320_coronavirus_pandemic_data&oldid=940512502',\n",
       " 'https://en.wikipedia.org/w/index.php?title=Template:2019%E2%80%9320_coronavirus_pandemic_data&oldid=940683119',\n",
       " 'https://en.wikipedia.org/w/index.php?title=Template:2019%E2%80%9320_coronavirus_pandemic_data&oldid=940852174',\n",
       " 'https://en.wikipedia.org/w/index.php?title=Template:2019%E2%80%9320_coronavirus_pandemic_data&oldid=941010764',\n",
       " 'https://en.wikipedia.org/w/index.php?title=Template:2019%E2%80%9320_coronavirus_pandemic_data&oldid=941175150',\n",
       " 'https://en.wikipedia.org/w/index.php?title=Template:2019%E2%80%9320_coronavirus_pandemic_data&oldid=941358392',\n",
       " 'https://en.wikipedia.org/w/index.php?title=Template:2019%E2%80%9320_coronavirus_pandemic_data&oldid=941506785',\n",
       " 'https://en.wikipedia.org/w/index.php?title=Template:2019%E2%80%9320_coronavirus_pandemic_data&direction=next&oldid=941684122',\n",
       " 'https://en.wikipedia.org/w/index.php?title=Template:2019%E2%80%9320_coronavirus_pandemic_data&oldid=941848218',\n",
       " 'https://en.wikipedia.org/w/index.php?title=Template:2019%E2%80%9320_coronavirus_pandemic_data&oldid=942002862',\n",
       " 'https://en.wikipedia.org/w/index.php?title=Template:2019%E2%80%9320_coronavirus_pandemic_data&oldid=942161086',\n",
       " 'https://en.wikipedia.org/w/index.php?title=Template:2019%E2%80%9320_coronavirus_pandemic_data&oldid=942326494',\n",
       " 'https://en.wikipedia.org/w/index.php?title=Template:2019%E2%80%9320_coronavirus_pandemic_data&oldid=942496885',\n",
       " 'https://en.wikipedia.org/w/index.php?title=Template:2019%E2%80%9320_coronavirus_pandemic_data&oldid=942649494',\n",
       " 'https://en.wikipedia.org/w/index.php?title=Template:2019%E2%80%9320_coronavirus_pandemic_data&oldid=942813905',\n",
       " 'https://en.wikipedia.org/w/index.php?title=Template:2019%E2%80%9320_coronavirus_pandemic_data&oldid=942965838',\n",
       " 'https://en.wikipedia.org/w/index.php?title=Template:2019%E2%80%9320_coronavirus_pandemic_data&oldid=943124253']"
      ]
     },
     "execution_count": 605,
     "metadata": {},
     "output_type": "execute_result"
    }
   ],
   "source": [
    "Urlstext"
   ]
  },
  {
   "cell_type": "markdown",
   "metadata": {},
   "source": [
    "Now scrape those URLs"
   ]
  },
  {
   "cell_type": "code",
   "execution_count": null,
   "metadata": {},
   "outputs": [],
   "source": [
    "FebUrlstext=['https://en.wikipedia.org/w/index.php?title=Template:2019%E2%80%9320_coronavirus_pandemic_data&oldid=938566085',\n",
    " 'https://en.wikipedia.org/w/index.php?title=Template:2019%E2%80%9320_coronavirus_pandemic_data&oldid=938722769',\n",
    " 'https://en.wikipedia.org/w/index.php?title=Template:2019%E2%80%9320_coronavirus_pandemic_data&oldid=938886445',\n",
    " 'https://en.wikipedia.org/w/index.php?title=Template:2019%E2%80%9320_coronavirus_pandemic_data&oldid=939041138',\n",
    " 'https://en.wikipedia.org/w/index.php?title=Template:2019%E2%80%9320_coronavirus_pandemic_data&oldid=939201335',\n",
    " 'https://en.wikipedia.org/w/index.php?title=Template:2019%E2%80%9320_coronavirus_pandemic_data&oldid=939362116',\n",
    " 'https://en.wikipedia.org/w/index.php?title=Template:2019%E2%80%9320_coronavirus_pandemic_data&oldid=939524881',\n",
    " 'https://en.wikipedia.org/w/index.php?title=Template:2019%E2%80%9320_coronavirus_pandemic_data&oldid=939679762',\n",
    " 'https://en.wikipedia.org/w/index.php?title=Template:2019%E2%80%9320_coronavirus_pandemic_data&oldid=939833918',\n",
    " 'https://en.wikipedia.org/w/index.php?title=Template:2019%E2%80%9320_coronavirus_pandemic_data&oldid=940002901',\n",
    " 'https://en.wikipedia.org/w/index.php?title=Template:2019%E2%80%9320_coronavirus_pandemic_data&oldid=940174916',\n",
    " 'https://en.wikipedia.org/w/index.php?title=Template:2019%E2%80%9320_coronavirus_pandemic_data&oldid=940342980',\n",
    " 'https://en.wikipedia.org/w/index.php?title=Template:2019%E2%80%9320_coronavirus_pandemic_data&oldid=940512502',\n",
    " 'https://en.wikipedia.org/w/index.php?title=Template:2019%E2%80%9320_coronavirus_pandemic_data&oldid=940683119',\n",
    " 'https://en.wikipedia.org/w/index.php?title=Template:2019%E2%80%9320_coronavirus_pandemic_data&oldid=940852174',\n",
    " 'https://en.wikipedia.org/w/index.php?title=Template:2019%E2%80%9320_coronavirus_pandemic_data&oldid=941010764',\n",
    " 'https://en.wikipedia.org/w/index.php?title=Template:2019%E2%80%9320_coronavirus_pandemic_data&oldid=941175150',\n",
    " 'https://en.wikipedia.org/w/index.php?title=Template:2019%E2%80%9320_coronavirus_pandemic_data&oldid=941358392',\n",
    " 'https://en.wikipedia.org/w/index.php?title=Template:2019%E2%80%9320_coronavirus_pandemic_data&oldid=941506785',\n",
    " 'https://en.wikipedia.org/w/index.php?title=Template:2019%E2%80%9320_coronavirus_pandemic_data&direction=next&oldid=941684122',\n",
    " 'https://en.wikipedia.org/w/index.php?title=Template:2019%E2%80%9320_coronavirus_pandemic_data&oldid=941848218',\n",
    " 'https://en.wikipedia.org/w/index.php?title=Template:2019%E2%80%9320_coronavirus_pandemic_data&oldid=942002862',\n",
    " 'https://en.wikipedia.org/w/index.php?title=Template:2019%E2%80%9320_coronavirus_pandemic_data&oldid=942161086',\n",
    " 'https://en.wikipedia.org/w/index.php?title=Template:2019%E2%80%9320_coronavirus_pandemic_data&oldid=942326494',\n",
    " 'https://en.wikipedia.org/w/index.php?title=Template:2019%E2%80%9320_coronavirus_pandemic_data&oldid=942496885',\n",
    " 'https://en.wikipedia.org/w/index.php?title=Template:2019%E2%80%9320_coronavirus_pandemic_data&oldid=942649494',\n",
    " 'https://en.wikipedia.org/w/index.php?title=Template:2019%E2%80%9320_coronavirus_pandemic_data&oldid=942813905',\n",
    " 'https://en.wikipedia.org/w/index.php?title=Template:2019%E2%80%9320_coronavirus_pandemic_data&oldid=942965838',\n",
    " 'https://en.wikipedia.org/w/index.php?title=Template:2019%E2%80%9320_coronavirus_pandemic_data&oldid=943124253']"
   ]
  },
  {
   "cell_type": "code",
   "execution_count": 721,
   "metadata": {},
   "outputs": [],
   "source": [
    "MarUrlstext=['https://en.wikipedia.org/w/index.php?title=Template:2019%E2%80%9320_coronavirus_pandemic_data&oldid=943311597',\n",
    " 'https://en.wikipedia.org/w/index.php?title=Template:2019%E2%80%9320_coronavirus_pandemic_data&oldid=943454674',\n",
    " 'https://en.wikipedia.org/w/index.php?title=Template:2019%E2%80%9320_coronavirus_pandemic_data&oldid=943633545',\n",
    " 'https://en.wikipedia.org/w/index.php?title=Template:2019%E2%80%9320_coronavirus_pandemic_data&oldid=943799750',\n",
    " 'https://en.wikipedia.org/w/index.php?title=Template:2019%E2%80%9320_coronavirus_pandemic_data&oldid=943984373',\n",
    " 'https://en.wikipedia.org/w/index.php?title=Template:2019%E2%80%9320_coronavirus_pandemic_data&oldid=944142051',\n",
    " 'https://en.wikipedia.org/w/index.php?title=Template:2019%E2%80%9320_coronavirus_pandemic_data&oldid=944306871',\n",
    " 'https://en.wikipedia.org/w/index.php?title=Template:2019%E2%80%9320_coronavirus_pandemic_data&oldid=944460601',\n",
    " 'https://en.wikipedia.org/w/index.php?title=Template:2019%E2%80%9320_coronavirus_pandemic_data&oldid=944630177',\n",
    " 'https://en.wikipedia.org/w/index.php?title=Template:2019%E2%80%9320_coronavirus_pandemic_data&oldid=944799518',\n",
    " 'https://en.wikipedia.org/w/index.php?title=Template:2019%E2%80%9320_coronavirus_pandemic_data&oldid=944965160',\n",
    " 'https://en.wikipedia.org/w/index.php?title=Template:2019%E2%80%9320_coronavirus_pandemic_data&oldid=945127664',\n",
    " 'https://en.wikipedia.org/w/index.php?title=Template:2019%E2%80%9320_coronavirus_pandemic_data&oldid=945288396',\n",
    " 'https://en.wikipedia.org/w/index.php?title=Template:2019%E2%80%9320_coronavirus_pandemic_data&oldid=945439727',\n",
    " 'https://en.wikipedia.org/w/index.php?title=Template:2019%E2%80%9320_coronavirus_pandemic_data&oldid=945597450',\n",
    " 'https://en.wikipedia.org/w/index.php?title=Template:2019%E2%80%9320_coronavirus_pandemic_data&oldid=945762744',\n",
    " 'https://en.wikipedia.org/w/index.php?title=Template:2019%E2%80%9320_coronavirus_pandemic_data&oldid=945925005',\n",
    " 'https://en.wikipedia.org/w/index.php?title=Template:2019%E2%80%9320_coronavirus_pandemic_data&oldid=946086474',\n",
    " 'https://en.wikipedia.org/w/index.php?title=Template:2019%E2%80%9320_coronavirus_pandemic_data&oldid=946244618',\n",
    " 'https://en.wikipedia.org/w/index.php?title=Template:2019%E2%80%9320_coronavirus_pandemic_data&oldid=946409034']"
   ]
  },
  {
   "cell_type": "code",
   "execution_count": 603,
   "metadata": {},
   "outputs": [
    {
     "name": "stdout",
     "output_type": "stream",
     "text": [
      "https://en.wikipedia.org/w/index.php?title=Template:2019%E2%80%9320_coronavirus_pandemic_data&oldid=938566085\n",
      "https://en.wikipedia.org/w/index.php?title=Template:2019%E2%80%9320_coronavirus_pandemic_data&oldid=938722769\n",
      "https://en.wikipedia.org/w/index.php?title=Template:2019%E2%80%9320_coronavirus_pandemic_data&oldid=938886445\n",
      "https://en.wikipedia.org/w/index.php?title=Template:2019%E2%80%9320_coronavirus_pandemic_data&oldid=939041138\n",
      "https://en.wikipedia.org/w/index.php?title=Template:2019%E2%80%9320_coronavirus_pandemic_data&oldid=939201335\n",
      "https://en.wikipedia.org/w/index.php?title=Template:2019%E2%80%9320_coronavirus_pandemic_data&oldid=939362116\n",
      "https://en.wikipedia.org/w/index.php?title=Template:2019%E2%80%9320_coronavirus_pandemic_data&oldid=939524881\n",
      "https://en.wikipedia.org/w/index.php?title=Template:2019%E2%80%9320_coronavirus_pandemic_data&oldid=939679762\n",
      "https://en.wikipedia.org/w/index.php?title=Template:2019%E2%80%9320_coronavirus_pandemic_data&oldid=939833918\n",
      "https://en.wikipedia.org/w/index.php?title=Template:2019%E2%80%9320_coronavirus_pandemic_data&oldid=940002901\n",
      "https://en.wikipedia.org/w/index.php?title=Template:2019%E2%80%9320_coronavirus_pandemic_data&oldid=940174916\n"
     ]
    }
   ],
   "source": [
    "allDicts = []\n",
    "for urls in Urlstext:\n",
    "    try:\n",
    "        allDicts.append(getDictionaryFromWikiTable(urls))\n",
    "    except:\n",
    "        print(urls)"
   ]
  },
  {
   "cell_type": "code",
   "execution_count": 470,
   "metadata": {},
   "outputs": [],
   "source": [
    "allKeys=np.sort(list(set.union(*[set(ad.keys()) for ad in allDicts])))"
   ]
  },
  {
   "cell_type": "code",
   "execution_count": 474,
   "metadata": {},
   "outputs": [
    {
     "data": {
      "text/plain": [
       "158"
      ]
     },
     "execution_count": 474,
     "metadata": {},
     "output_type": "execute_result"
    }
   ],
   "source": [
    "len(allKeys)"
   ]
  },
  {
   "cell_type": "code",
   "execution_count": 475,
   "metadata": {},
   "outputs": [
    {
     "data": {
      "text/plain": [
       "[65, 68, 77, 81, 85, 87, 96, 102, 103, 108, 112, 116, 120, 134, 137, 142, 147]"
      ]
     },
     "execution_count": 475,
     "metadata": {},
     "output_type": "execute_result"
    }
   ],
   "source": [
    "[len(ad) for ad in allDicts]"
   ]
  },
  {
   "cell_type": "code",
   "execution_count": 476,
   "metadata": {},
   "outputs": [
    {
     "data": {
      "text/plain": [
       "array(['Afghanistan', 'Albania', 'Algeria', 'Andorra',\n",
       "       'Antigua and Barbuda', 'Argentina', 'Armenia', 'Aruba',\n",
       "       'Australia', 'Austria', 'Azerbaijan', 'Bahamas', 'Bahrain',\n",
       "       'Bangladesh', 'Belarus', 'Belgium', 'Benin', 'Bhutan', 'Bolivia',\n",
       "       'Bosnia and Herzegovina', 'Brazil', 'Brunei', 'Bulgaria',\n",
       "       'Burkina Faso', 'Cambodia', 'Cameroon', 'Canada',\n",
       "       'Central African Republic', 'Chile', 'China', 'Colombia',\n",
       "       'Costa Rica', 'Croatia', 'Cuba', 'Cyprus', 'Czech Republic',\n",
       "       'DR Congo', 'Denmark', 'Diamond Princess', 'Dominican Republic',\n",
       "       'Ecuador', 'Egypt', 'Equatorial Guinea', 'Estonia', 'Eswatini',\n",
       "       'Ethiopia', 'Finland', 'France', 'Gabon', 'Georgia', 'Germany',\n",
       "       'Ghana', 'Gibraltar', 'Grand Princess', 'Greece', 'Guatemala',\n",
       "       'Guernsey', 'Guinea', 'Guyana', 'Honduras', 'Hong Kong', 'Hungary',\n",
       "       'Iceland', 'India', 'Indonesia', 'International\\xa0conveyance',\n",
       "       'Iran', 'Iraq', 'Ireland', 'Israel', 'Italy', 'Ivory Coast',\n",
       "       'Jamaica', 'Japan', 'Jersey', 'Jordan', 'Kazakhstan', 'Kenya',\n",
       "       'Kosovo', 'Kuwait', 'Latvia', 'Lebanon', 'Liberia',\n",
       "       'Liechtenstein', 'Lithuania', 'Luxembourg', 'MS River Anuket',\n",
       "       'Macau', 'Mainland China', 'Malaysia', 'Maldives', 'Malta',\n",
       "       'Mauritania', 'Mexico', 'Moldova', 'Monaco', 'Mongolia', 'Morocco',\n",
       "       'Namibia', 'Nepal', 'Netherlands', 'New Zealand', 'Nigeria',\n",
       "       'North Korea', 'North Macedonia', 'Northern Cyprus', 'Norway',\n",
       "       'Oman', 'Pakistan', 'Palestine', 'Panama', 'Paraguay', 'Peru',\n",
       "       'Philippines', 'Poland', 'Portugal', 'Qatar',\n",
       "       'Republic of the Congo', 'Romania', 'Russia', 'Rwanda',\n",
       "       'Saint Lucia', 'San Marino', 'Saudi Arabia', 'Senegal', 'Serbia',\n",
       "       'Seychelles', 'Singapore', 'Slovakia', 'Slovenia', 'Somalia',\n",
       "       'South Africa', 'South Korea', 'Spain', 'Sri Lanka', 'St. Vincent',\n",
       "       'St. Vincent & Grenadines', 'St. Vincent and the Grenadines',\n",
       "       'Sudan', 'Suriname', 'Sweden', 'Switzerland', 'Taiwan', 'Tanzania',\n",
       "       'Thailand', 'Togo', 'Trinidad and Tobago', 'Tunisia', 'Turkey',\n",
       "       'Ukraine', 'United Arab Emirates', 'United Kingdom',\n",
       "       'United States', 'Uruguay', 'Uzbekistan', 'Vatican City',\n",
       "       'Venezuela', 'Vietnam'], dtype='<U30')"
      ]
     },
     "execution_count": 476,
     "metadata": {},
     "output_type": "execute_result"
    }
   ],
   "source": [
    "allKeys"
   ]
  },
  {
   "cell_type": "code",
   "execution_count": 622,
   "metadata": {},
   "outputs": [],
   "source": [
    "allKeys=['Afghanistan', 'Albania', 'Algeria', 'Andorra',\n",
    "       'Antigua and Barbuda', 'Argentina', 'Armenia', 'Aruba',\n",
    "       'Australia', 'Austria', 'Azerbaijan', 'Bahamas', 'Bahrain',\n",
    "       'Bangladesh', 'Belarus', 'Belgium', 'Benin', 'Bhutan', 'Bolivia',\n",
    "       'Bosnia and Herzegovina', 'Brazil', 'Brunei', 'Bulgaria',\n",
    "       'Burkina Faso', 'Cambodia', 'Cameroon', 'Canada',\n",
    "       'Central African Republic', 'Chile', 'China', 'Colombia',\n",
    "       'Costa Rica', 'Croatia', 'Cuba', 'Cyprus', 'Czech Republic',\n",
    "       'DR Congo', 'Denmark', 'Diamond Princess', 'Dominican Republic',\n",
    "       'Ecuador', 'Egypt', 'Equatorial Guinea', 'Estonia', 'Eswatini',\n",
    "       'Ethiopia', 'Finland', 'France', 'Gabon', 'Georgia', 'Germany',\n",
    "       'Ghana', 'Gibraltar', 'Grand Princess', 'Greece', 'Guatemala',\n",
    "       'Guernsey', 'Guinea', 'Guyana', 'Honduras', 'Hong Kong', 'Hungary',\n",
    "       'Iceland', 'India', 'Indonesia',\n",
    "       'Iran', 'Iraq', 'Ireland', 'Israel', 'Italy', 'Ivory Coast',\n",
    "       'Jamaica', 'Japan', 'Jersey', 'Jordan', 'Kazakhstan', 'Kenya',\n",
    "       'Kosovo', 'Kuwait', 'Latvia', 'Lebanon', 'Liberia',\n",
    "       'Liechtenstein', 'Lithuania', 'Luxembourg',\n",
    "       'Macau', 'Malaysia', 'Maldives', 'Malta',\n",
    "       'Mauritania', 'Mexico', 'Moldova', 'Monaco', 'Mongolia', 'Morocco',\n",
    "       'Namibia', 'Nepal', 'Netherlands', 'New Zealand', 'Nigeria',\n",
    "       'North Korea', 'North Macedonia', 'Northern Cyprus', 'Norway',\n",
    "       'Oman', 'Pakistan', 'Palestine', 'Panama', 'Paraguay', 'Peru',\n",
    "       'Philippines', 'Poland', 'Portugal', 'Qatar',\n",
    "       'Republic of the Congo', 'Romania', 'Russia', 'Rwanda',\n",
    "       'Saint Lucia', 'San Marino', 'Saudi Arabia', 'Senegal', 'Serbia',\n",
    "       'Seychelles', 'Singapore', 'Slovakia', 'Slovenia', 'Somalia',\n",
    "       'South Africa', 'South Korea', 'Spain', 'Sri Lanka', 'St. Vincent and the Grenadines',\n",
    "       'Sudan', 'Suriname', 'Sweden', 'Switzerland', 'Taiwan', 'Tanzania',\n",
    "       'Thailand', 'Togo', 'Trinidad and Tobago', 'Tunisia', 'Turkey',\n",
    "       'Ukraine', 'United Arab Emirates', 'United Kingdom',\n",
    "       'United States', 'Uruguay', 'Uzbekistan', 'Vatican City',\n",
    "       'Venezuela', 'Vietnam']"
   ]
  },
  {
   "cell_type": "code",
   "execution_count": 580,
   "metadata": {},
   "outputs": [
    {
     "data": {
      "text/plain": [
       "[13, 0, 3]"
      ]
     },
     "execution_count": 580,
     "metadata": {},
     "output_type": "execute_result"
    }
   ],
   "source": [
    "allDicts[0]['United States']"
   ]
  },
  {
   "cell_type": "code",
   "execution_count": 522,
   "metadata": {},
   "outputs": [],
   "source": [
    "def getData(dictIndex,key):\n",
    "    try:\n",
    "        output = allDicts[dictIndex][key]\n",
    "    except:\n",
    "        output = [\"\",\"\",\"\"]\n",
    "    return output"
   ]
  },
  {
   "cell_type": "code",
   "execution_count": 615,
   "metadata": {},
   "outputs": [],
   "source": [
    "def getData2(dic,key):\n",
    "    try:\n",
    "        output = dic[key]\n",
    "    except:\n",
    "        output = [\"\",\"\",\"\"]\n",
    "    return output"
   ]
  },
  {
   "cell_type": "code",
   "execution_count": 604,
   "metadata": {},
   "outputs": [],
   "source": [
    "data=np.array([np.concatenate([getData(i,key) for key in allKeys]) for i in range(len(allDicts))])\n",
    "\n",
    "header1=np.concatenate([[key,\"\",\"\"] for key in allKeys])\n",
    "\n",
    "header2=np.concatenate([[\"cases\",\"dead\",\"recovered\"] for key in allKeys])\n",
    "\n",
    "allData=np.concatenate(((header1,header2),data),axis=0)\n",
    "\n",
    "np.savetxt(\"/home/handmer/Documents/Projects/Covid/COVID19numbersFeb.csv\",allData,delimiter=\",\", fmt='%s', comments='',)"
   ]
  },
  {
   "cell_type": "markdown",
   "metadata": {},
   "source": [
    "For updating the daily numbers"
   ]
  },
  {
   "cell_type": "code",
   "execution_count": 644,
   "metadata": {},
   "outputs": [],
   "source": [
    "todayKeys=['Afghanistan', 'Albania', 'Algeria', 'Andorra',\n",
    "       'Antigua and Barbuda', 'Argentina', 'Armenia', 'Aruba',\n",
    "       'Australia', 'Austria', 'Azerbaijan', 'Bahamas', 'Bahrain',\n",
    "       'Bangladesh', 'Barbados', 'Belarus', 'Belgium', 'Benin', 'Bhutan',\n",
    "       'Bolivia', 'Bosnia and Herzegovina', 'Brazil', 'Brunei',\n",
    "       'Bulgaria', 'Burkina Faso', 'Cambodia', 'Cameroon', 'Canada',\n",
    "       'Central African Republic', 'Chile', 'China', 'Colombia',\n",
    "       'Costa Rica', 'Croatia', 'Cuba', 'Cyprus', 'Czech Republic',\n",
    "       'DR Congo', 'Denmark', 'Diamond Princess', 'Djibouti',\n",
    "       'Dominican Republic', 'Ecuador', 'Egypt', 'Equatorial Guinea',\n",
    "       'Estonia', 'Eswatini', 'Ethiopia', 'Finland', 'France', 'Gabon',\n",
    "       'Gambia', 'Georgia', 'Germany', 'Ghana', 'Gibraltar',\n",
    "       'Grand Princess', 'Greece', 'Guatemala', 'Guernsey', 'Guinea',\n",
    "       'Guyana', 'Honduras', 'Hong Kong', 'Hungary', 'Iceland', 'India',\n",
    "       'Indonesia', 'Iran', 'Iraq', 'Ireland', 'Israel', 'Italy',\n",
    "       'Ivory Coast', 'Jamaica', 'Japan', 'Jersey', 'Jordan',\n",
    "       'Kazakhstan', 'Kenya', 'Kosovo', 'Kuwait', 'Kyrgyzstan', 'Latvia',\n",
    "       'Lebanon', 'Liberia', 'Liechtenstein', 'Lithuania', 'Luxembourg',\n",
    "       'Macau', 'Malaysia', 'Maldives', 'Malta', 'Mauritania',\n",
    "       'Mauritius', 'Mexico', 'Moldova', 'Monaco', 'Mongolia',\n",
    "       'Montenegro', 'Morocco', 'Namibia', 'Nepal', 'Netherlands',\n",
    "       'New Zealand', 'Nigeria', 'North Korea', 'North Macedonia',\n",
    "       'Northern Cyprus', 'Norway', 'Oman', 'Pakistan', 'Palestine',\n",
    "       'Panama', 'Paraguay', 'Peru', 'Philippines', 'Poland', 'Portugal',\n",
    "       'Qatar', 'Republic of the Congo', 'Romania', 'Russia', 'Rwanda',\n",
    "       'Saint Lucia', 'San Marino', 'Saudi Arabia', 'Senegal', 'Serbia',\n",
    "       'Seychelles', 'Singapore', 'Slovakia', 'Slovenia', 'Somalia',\n",
    "       'South Africa', 'South Korea', 'Spain', 'Sri Lanka',\n",
    "       'St. Vincent and the Grenadines', 'Sudan', 'Suriname', 'Sweden',\n",
    "       'Switzerland', 'Taiwan', 'Tanzania', 'Thailand', 'Togo',\n",
    "       'Trinidad and Tobago', 'Tunisia', 'Turkey', 'Ukraine',\n",
    "       'United Arab Emirates', 'United Kingdom', 'United States',\n",
    "       'Uruguay', 'Uzbekistan', 'Vatican City', 'Venezuela', 'Vietnam',\n",
    "       'Zambia']"
   ]
  },
  {
   "cell_type": "code",
   "execution_count": 724,
   "metadata": {},
   "outputs": [],
   "source": [
    "today = getDictionaryFromWikiTable(MarUrlstext[-1])"
   ]
  },
  {
   "cell_type": "code",
   "execution_count": 725,
   "metadata": {},
   "outputs": [
    {
     "data": {
      "text/plain": [
       "{'Chad', 'El Salvador', 'Fiji', 'Nicaragua', 'Niger'}"
      ]
     },
     "execution_count": 725,
     "metadata": {},
     "output_type": "execute_result"
    }
   ],
   "source": [
    "set(today.keys())-set(todayKeys)"
   ]
  },
  {
   "cell_type": "code",
   "execution_count": 726,
   "metadata": {},
   "outputs": [
    {
     "data": {
      "text/plain": [
       "{'Aruba', 'Gibraltar', 'Grand Princess', 'Guernsey', 'Jersey', 'North Korea'}"
      ]
     },
     "execution_count": 726,
     "metadata": {},
     "output_type": "execute_result"
    }
   ],
   "source": [
    "set(todayKeys)-set(today.keys())"
   ]
  },
  {
   "cell_type": "code",
   "execution_count": 727,
   "metadata": {},
   "outputs": [],
   "source": [
    "todayKeys=np.sort(list(set(today.keys())|set(todayKeys)))"
   ]
  },
  {
   "cell_type": "code",
   "execution_count": 728,
   "metadata": {},
   "outputs": [],
   "source": [
    "data=np.concatenate([getData2(today,key) for key in todayKeys])\n",
    "\n",
    "header1=np.concatenate([[key,\"\",\"\"] for key in todayKeys])\n",
    "\n",
    "header2=np.concatenate([[\"cases\",\"dead\",\"recovered\"] for key in todayKeys])\n",
    "\n",
    "allData=np.array([header1,header2,data])\n",
    "\n",
    "np.savetxt(\"/home/handmer/Documents/Projects/Covid/COVID19numbersToday.csv\",allData,delimiter=\",\", fmt='%s', comments='',)"
   ]
  },
  {
   "cell_type": "markdown",
   "metadata": {},
   "source": [
    "Let's crunch the US data from covidtracking.com"
   ]
  },
  {
   "cell_type": "code",
   "execution_count": 730,
   "metadata": {},
   "outputs": [],
   "source": [
    "import csv\n",
    "\n",
    "USData=[]\n",
    "\n",
    "with open(\"/home/handmer/Documents/Projects/Covid/COVIDUSA.csv\") as csv_file:\n",
    "    csv_reader = csv.reader(csv_file, delimiter=',')\n",
    "    line_count = 0\n",
    "    for row in csv_reader:\n",
    "        USData.append(row)\n",
    "        #if line_count == 0:\n",
    "        #    print(f'Column names are {\", \".join(row)}')\n",
    "        #    line_count += 1\n",
    "        #else:\n",
    "        #    print(row)\n",
    "        #    line_count += 1\n",
    "    #print(f'Processed {line_count} lines.')"
   ]
  },
  {
   "cell_type": "code",
   "execution_count": 731,
   "metadata": {},
   "outputs": [],
   "source": [
    "dates=np.sort(list(set([x[0] for x in USData[1:]])))"
   ]
  },
  {
   "cell_type": "code",
   "execution_count": 732,
   "metadata": {},
   "outputs": [],
   "source": [
    "states=np.sort(list(set([x[1] for x in USData[1:]])))"
   ]
  },
  {
   "cell_type": "code",
   "execution_count": 733,
   "metadata": {},
   "outputs": [
    {
     "data": {
      "text/plain": [
       "array(['20200304', '20200305', '20200306', '20200307', '20200308',\n",
       "       '20200309', '20200310', '20200311', '20200312', '20200313',\n",
       "       '20200314', '20200315', '20200316', '20200317', '20200318',\n",
       "       '20200319'], dtype='<U8')"
      ]
     },
     "execution_count": 733,
     "metadata": {},
     "output_type": "execute_result"
    }
   ],
   "source": [
    "dates"
   ]
  },
  {
   "cell_type": "code",
   "execution_count": 735,
   "metadata": {},
   "outputs": [],
   "source": [
    "def generateDictFromDate(date):\n",
    "    myDict={}\n",
    "    for x in USData:\n",
    "        if x[0]==date:\n",
    "            out=[]\n",
    "            for y in x[2:]:\n",
    "                try:\n",
    "                    out.append(int(y))\n",
    "                except:\n",
    "                    out.append(0)\n",
    "            myDict[x[1]]=out\n",
    "    return myDict"
   ]
  },
  {
   "cell_type": "code",
   "execution_count": 736,
   "metadata": {},
   "outputs": [],
   "source": [
    "USDicts=[generateDictFromDate(d) for d in dates]"
   ]
  },
  {
   "cell_type": "code",
   "execution_count": 737,
   "metadata": {},
   "outputs": [
    {
     "data": {
      "text/plain": [
       "[2, 27, 5, 0, 34]"
      ]
     },
     "execution_count": 737,
     "metadata": {},
     "output_type": "execute_result"
    }
   ],
   "source": [
    "USDicts[0]['AZ']"
   ]
  },
  {
   "cell_type": "code",
   "execution_count": 738,
   "metadata": {},
   "outputs": [],
   "source": [
    "def getData3(dic,key):\n",
    "    try:\n",
    "        output = dic[key]\n",
    "    except:\n",
    "        output = [\"\",\"\",\"\",\"\",\"\"]\n",
    "    return output"
   ]
  },
  {
   "cell_type": "code",
   "execution_count": 739,
   "metadata": {},
   "outputs": [
    {
     "data": {
      "text/plain": [
       "['Positive', 'Negative', 'Pending', 'Death', 'Total']"
      ]
     },
     "execution_count": 739,
     "metadata": {},
     "output_type": "execute_result"
    }
   ],
   "source": [
    "USData[0][2:]"
   ]
  },
  {
   "cell_type": "code",
   "execution_count": 740,
   "metadata": {},
   "outputs": [],
   "source": [
    "data2=np.array([np.concatenate([getData3(USD,key) for key in states]) for USD in USDicts])\n",
    "header1=np.concatenate([[key,\"\",\"\",\"\",\"\"] for key in states])\n",
    "header2=np.concatenate([USData[0][2:] for key in states])\n",
    "allData2=np.concatenate(((header1,header2),data2),axis=0)\n",
    "np.savetxt(\"/home/handmer/Documents/Projects/Covid/COVID19USData.csv\",allData2,delimiter=\",\", fmt='%s', comments='',)"
   ]
  },
  {
   "cell_type": "code",
   "execution_count": null,
   "metadata": {},
   "outputs": [],
   "source": []
  }
 ],
 "metadata": {
  "kernelspec": {
   "display_name": "Covid",
   "language": "python",
   "name": "covid"
  },
  "language_info": {
   "codemirror_mode": {
    "name": "ipython",
    "version": 3
   },
   "file_extension": ".py",
   "mimetype": "text/x-python",
   "name": "python",
   "nbconvert_exporter": "python",
   "pygments_lexer": "ipython3",
   "version": "3.6.8"
  }
 },
 "nbformat": 4,
 "nbformat_minor": 4
}
